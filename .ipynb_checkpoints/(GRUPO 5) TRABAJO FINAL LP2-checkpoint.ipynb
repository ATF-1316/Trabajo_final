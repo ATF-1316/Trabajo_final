{
 "cells": [
  {
   "cell_type": "code",
   "execution_count": null,
   "id": "8a6137cd",
   "metadata": {},
   "outputs": [],
   "source": [
    "                   ########################### PAQUETES A IMPORTAR ###########################\n",
    "import requests\n",
    "import openpyxl\n",
    "import pandas as pd\n",
    "from bs4 import BeautifulSoup\n",
    "\n",
    "                ################## CÓDIGO INPLEMENTADO PARA EL WEB SCRAPING  ######################\n",
    "    \n",
    "archivo_vacio = pd.read_excel(\"02 Ch Genes ordenados con vecinos_PROTOTIPO.xlsx\",header=1)\n",
    "genes=list(archivo_vacio[\"Gen Abrev\"]) \n",
    "\n",
    "n=3 \n",
    "for i in genes: \n",
    "    print(n-2,\":\",i)\n",
    "    url=f\"https://www.uniprot.org/uniprot/?query={i}+Capra+Hircus&sort=score\" \n",
    "    page_response=requests.get(url) \n",
    "    page_content=BeautifulSoup(page_response.content,\"html.parser\") \n",
    "\n",
    "    entry=page_content.find_all(\"td\",class_=\"entryID\") \n",
    "    entry_i=[] \n",
    "    for e in entry:  \n",
    "        entry_i.append(e.text) \n",
    "        \n",
    "    try: \n",
    "        url=f\"https://www.uniprot.org/uniprot/{entry_i[0]}\"  \n",
    "        page_response=requests.get(url) \n",
    "        \n",
    "        page_content=BeautifulSoup(page_response.content,\"html.parser\") \n",
    "      \n",
    "        ####  ENTRY  ####\n",
    "        entry_name=page_content.find_all(\"h2\",class_=\"page-title\") \n",
    "        for j in entry_name: \n",
    "            entry1=j.text \n",
    "        entry1=entry1.split() \n",
    "        Entry=entry1[2] \n",
    "        \n",
    "        #### ENTRY NAME ####\n",
    "        Entry_name=\"\".join(list(entry1[3])[1:len(list(entry1[3]))-1])"
   ]
  }
 ],
 "metadata": {
  "kernelspec": {
   "display_name": "Python 3",
   "language": "python",
   "name": "python3"
  },
  "language_info": {
   "codemirror_mode": {
    "name": "ipython",
    "version": 3
   },
   "file_extension": ".py",
   "mimetype": "text/x-python",
   "name": "python",
   "nbconvert_exporter": "python",
   "pygments_lexer": "ipython3",
   "version": "3.8.8"
  }
 },
 "nbformat": 4,
 "nbformat_minor": 5
}
